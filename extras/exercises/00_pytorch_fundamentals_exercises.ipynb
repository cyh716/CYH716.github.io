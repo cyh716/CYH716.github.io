{
  "nbformat": 4,
  "nbformat_minor": 0,
  "metadata": {
    "colab": {
      "name": "00_pytorch_fundamentals_exercises.ipynb",
      "provenance": [],
      "include_colab_link": true
    },
    "kernelspec": {
      "name": "python3",
      "display_name": "Python 3"
    },
    "language_info": {
      "name": "python"
    }
  },
  "cells": [
    {
      "cell_type": "markdown",
      "metadata": {
        "id": "view-in-github",
        "colab_type": "text"
      },
      "source": [
        "<a href=\"https://colab.research.google.com/github/cyh716/CYH716.github.io/blob/main/extras/exercises/00_pytorch_fundamentals_exercises.ipynb\" target=\"_parent\"><img src=\"https://colab.research.google.com/assets/colab-badge.svg\" alt=\"Open In Colab\"/></a>"
      ]
    },
    {
      "cell_type": "markdown",
      "source": [
        "# 00. PyTorch Fundamentals Exercises\n",
        "\n",
        "### 1. Documentation reading\n",
        "\n",
        "A big part of deep learning (and learning to code in general) is getting familiar with the documentation of a certain framework you're using. We'll be using the PyTorch documentation a lot throughout the rest of this course. So I'd recommend spending 10-minutes reading the following (it's okay if you don't get some things for now, the focus is not yet full understanding, it's awareness):\n",
        "  * The documentation on [`torch.Tensor`](https://pytorch.org/docs/stable/tensors.html#torch-tensor).\n",
        "  * The documentation on [`torch.cuda`](https://pytorch.org/docs/master/notes/cuda.html#cuda-semantics).\n",
        "\n"
      ],
      "metadata": {
        "id": "AzDBM_v4iMe7"
      }
    },
    {
      "cell_type": "code",
      "source": [
        "# No code solution (reading)"
      ],
      "metadata": {
        "id": "bGD0oD8Kizak"
      },
      "execution_count": null,
      "outputs": []
    },
    {
      "cell_type": "markdown",
      "source": [
        "### 2. Create a random tensor with shape `(7, 7)`.\n"
      ],
      "metadata": {
        "id": "__iXqqz-ioUJ"
      }
    },
    {
      "cell_type": "code",
      "source": [
        "# Import torch\n",
        "import torch\n",
        "\n",
        "# Create random tensor\n",
        "tensor1=torch.rand(7,7)\n",
        "print(tensor1)"
      ],
      "metadata": {
        "id": "6pUq9Dc8i2L7",
        "outputId": "64e7fb16-808f-4e83-accd-74d647296cdd",
        "colab": {
          "base_uri": "https://localhost:8080/"
        }
      },
      "execution_count": 8,
      "outputs": [
        {
          "output_type": "stream",
          "name": "stdout",
          "text": [
            "tensor([[0.2442, 0.0792, 0.0603, 0.7150, 0.0712, 0.6043, 0.2119],\n",
            "        [0.3987, 0.1375, 0.7767, 0.1546, 0.9720, 0.1141, 0.8486],\n",
            "        [0.4441, 0.1623, 0.0152, 0.1311, 0.0444, 0.4688, 0.0033],\n",
            "        [0.8535, 0.6391, 0.1032, 0.3262, 0.8904, 0.3240, 0.0591],\n",
            "        [0.6340, 0.0497, 0.1468, 0.5553, 0.2012, 0.4650, 0.6467],\n",
            "        [0.6914, 0.3039, 0.0823, 0.1949, 0.7082, 0.3694, 0.7644],\n",
            "        [0.7791, 0.0112, 0.5156, 0.5610, 0.5362, 0.2483, 0.4122]])\n"
          ]
        }
      ]
    },
    {
      "cell_type": "markdown",
      "source": [
        "### 3. Perform a matrix multiplication on the tensor from 2 with another random tensor with shape `(1, 7)` (hint: you may have to transpose the second tensor)."
      ],
      "metadata": {
        "id": "9-XxvRLfiqkR"
      }
    },
    {
      "cell_type": "code",
      "source": [
        "# Create another random tensor\n",
        "tensor2=torch.rand(1,7).T\n",
        "# Perform matrix multiplication\n",
        "tensor=tensor1 @ tensor2\n",
        "print(tensor,tensor.shape)"
      ],
      "metadata": {
        "id": "NcLqR0Sbi_vT",
        "outputId": "bd709c96-b713-47cb-c3c2-5942e01aa6ee",
        "colab": {
          "base_uri": "https://localhost:8080/"
        }
      },
      "execution_count": 10,
      "outputs": [
        {
          "output_type": "stream",
          "name": "stdout",
          "text": [
            "tensor([[1.0384],\n",
            "        [1.7820],\n",
            "        [0.7856],\n",
            "        [2.3313],\n",
            "        [1.4233],\n",
            "        [1.8806],\n",
            "        [1.7372]]) torch.Size([7, 1])\n"
          ]
        }
      ]
    },
    {
      "cell_type": "markdown",
      "source": [
        "### 4. Set the random seed to `0` and do 2 & 3 over again.\n",
        "\n",
        "The output should be:\n",
        "```\n",
        "(tensor([[1.8542],\n",
        "         [1.9611],\n",
        "         [2.2884],\n",
        "         [3.0481],\n",
        "         [1.7067],\n",
        "         [2.5290],\n",
        "         [1.7989]]), torch.Size([7, 1]))\n",
        "```"
      ],
      "metadata": {
        "id": "eiutdKUFiryU"
      }
    },
    {
      "cell_type": "code",
      "source": [
        "# Set manual seed\n",
        "torch.manual_seed(23)\n",
        "# Create two random tensors\n",
        "tensor1=torch.rand(7,7)\n",
        "tensor2=torch.rand(1,7).T\n",
        "# Matrix multiply tensors\n",
        "tensor=tensor1 @ tensor2\n",
        "print(tensor,tensor.shape)"
      ],
      "metadata": {
        "id": "D-lOWI_1jRMm",
        "outputId": "aaf3273e-3a80-4c50-b625-cb9148ec6974",
        "colab": {
          "base_uri": "https://localhost:8080/"
        }
      },
      "execution_count": 16,
      "outputs": [
        {
          "output_type": "stream",
          "name": "stdout",
          "text": [
            "tensor([[1.7550],\n",
            "        [1.9489],\n",
            "        [1.5575],\n",
            "        [1.9645],\n",
            "        [2.0376],\n",
            "        [1.9741],\n",
            "        [1.3910]]) torch.Size([7, 1])\n"
          ]
        }
      ]
    },
    {
      "cell_type": "markdown",
      "source": [
        "### 5. Speaking of random seeds, we saw how to set it with `torch.manual_seed()` but is there a GPU equivalent? (hint: you'll need to look into the documentation for `torch.cuda` for this one)\n",
        "  * If there is, set the GPU random seed to `1234`."
      ],
      "metadata": {
        "id": "ezY6ks9Cis37"
      }
    },
    {
      "cell_type": "code",
      "source": [
        "# Set random seed on the GPU\n",
        "torch.cuda.manual_seed(1234)  # Sets seed for GPU operations"
      ],
      "metadata": {
        "id": "_LKWcfSTjp00"
      },
      "execution_count": 18,
      "outputs": []
    },
    {
      "cell_type": "markdown",
      "source": [
        "\n",
        "### 6. Create two random tensors of shape `(2, 3)` and send them both to the GPU (you'll need access to a GPU for this). Set `torch.manual_seed(1234)` when creating the tensors (this doesn't have to be the GPU random seed). The output should be something like:\n",
        "\n",
        "```\n",
        "Device: cuda\n",
        "(tensor([[0.0290, 0.4019, 0.2598],\n",
        "         [0.3666, 0.0583, 0.7006]], device='cuda:0'),\n",
        " tensor([[0.0518, 0.4681, 0.6738],\n",
        "         [0.3315, 0.7837, 0.5631]], device='cuda:0'))\n",
        "```"
      ],
      "metadata": {
        "id": "Ir9qSaj6it4n"
      }
    },
    {
      "cell_type": "code",
      "source": [
        "# Set random seed\n",
        "torch.cuda.manual_seed(1234)\n",
        "# Check for access to GPU\n",
        "device=\"cuda\" if torch.cuda.is_available() else \"cpu\"\n",
        "# Create two random tensors on GPU\n",
        "tensor1=torch.rand(2,3).to(device)\n",
        "tensor2=torch.rand(2,3).to(device)\n",
        "print(f\"Device: {device}\")\n",
        "print(f\"{tensor1},{tensor1.device}\\n{tensor2},{tensor2.device}\")"
      ],
      "metadata": {
        "id": "azXExiFZj5nm",
        "outputId": "d9145be7-932f-41d4-b435-2c1dbdd52b4f",
        "colab": {
          "base_uri": "https://localhost:8080/"
        }
      },
      "execution_count": 21,
      "outputs": [
        {
          "output_type": "stream",
          "name": "stdout",
          "text": [
            "Device: cpu\n",
            "tensor([[0.6524, 0.7804, 0.0450],\n",
            "        [0.4816, 0.8964, 0.9583]]),cpu\n",
            "tensor([[0.7729, 0.7437, 0.6313],\n",
            "        [0.1613, 0.5894, 0.3005]]),cpu\n"
          ]
        }
      ]
    },
    {
      "cell_type": "markdown",
      "source": [
        "\n",
        "### 7. Perform a matrix multiplication on the tensors you created in 6 (again, you may have to adjust the shapes of one of the tensors).\n",
        "\n",
        "The output should look like:\n",
        "```\n",
        "(tensor([[0.3647, 0.4709],\n",
        "         [0.5184, 0.5617]], device='cuda:0'), torch.Size([2, 2]))\n",
        "```"
      ],
      "metadata": {
        "id": "5TlAxeiSiu1y"
      }
    },
    {
      "cell_type": "code",
      "source": [
        "# Perform matmul on tensor_A and tensor_B\n",
        "tensor = tensor1 @ tensor2.T\n",
        "print(tensor,tensor.shape)"
      ],
      "metadata": {
        "id": "fAeG7ox0lHEO",
        "outputId": "43f1f872-7d2e-4d62-9742-e1f5f29c1f9e",
        "colab": {
          "base_uri": "https://localhost:8080/"
        }
      },
      "execution_count": 23,
      "outputs": [
        {
          "output_type": "stream",
          "name": "stdout",
          "text": [
            "tensor([[1.1130, 0.5787],\n",
            "        [1.6439, 0.8940]]) torch.Size([2, 2])\n"
          ]
        }
      ]
    },
    {
      "cell_type": "markdown",
      "source": [
        "### 8. Find the maximum and minimum values of the output of 7."
      ],
      "metadata": {
        "id": "G7qfa5CSivwg"
      }
    },
    {
      "cell_type": "code",
      "source": [
        "# Find max\n",
        "print(tensor.max())\n",
        "# Find min\n",
        "print(tensor.min())"
      ],
      "metadata": {
        "id": "Fu8_3mZpllOd",
        "outputId": "9a33562f-bcf2-4f74-a575-3947b8a44c32",
        "colab": {
          "base_uri": "https://localhost:8080/"
        }
      },
      "execution_count": 24,
      "outputs": [
        {
          "output_type": "stream",
          "name": "stdout",
          "text": [
            "tensor(1.6439)\n",
            "tensor(0.5787)\n"
          ]
        }
      ]
    },
    {
      "cell_type": "markdown",
      "source": [
        "### 9. Find the maximum and minimum index values of the output of 7."
      ],
      "metadata": {
        "id": "wrTj5FgNiw47"
      }
    },
    {
      "cell_type": "code",
      "source": [
        "# Find arg max\n",
        "max_idx=tensor.argmax()\n",
        "max_i,max_j=max_idx//2,max_idx%2\n",
        "print(f\"index of maximum value:({max_i},{max_j})\")\n",
        "# Find arg min\n",
        "min_idx=tensor.argmin()\n",
        "min_i,min_j=min_idx//2,min_idx%2\n",
        "print(f\"index of minimum value:({min_i},{min_j})\")"
      ],
      "metadata": {
        "id": "CCEKt4K2lsfQ",
        "outputId": "4c661c06-cb82-4b04-cf0c-27835c576778",
        "colab": {
          "base_uri": "https://localhost:8080/"
        }
      },
      "execution_count": 28,
      "outputs": [
        {
          "output_type": "stream",
          "name": "stdout",
          "text": [
            "index of maximum value:(1,0)\n",
            "index of minimum value:(0,1)\n"
          ]
        }
      ]
    },
    {
      "cell_type": "markdown",
      "source": [
        "\n",
        "### 10. Make a random tensor with shape `(1, 1, 1, 10)` and then create a new tensor with all the `1` dimensions removed to be left with a tensor of shape `(10)`. Set the seed to `7` when you create it and print out the first tensor and it's shape as well as the second tensor and it's shape.\n",
        "\n",
        "The output should look like:\n",
        "\n",
        "```\n",
        "tensor([[[[0.5349, 0.1988, 0.6592, 0.6569, 0.2328, 0.4251, 0.2071, 0.6297,\n",
        "           0.3653, 0.8513]]]]) torch.Size([1, 1, 1, 10])\n",
        "tensor([0.5349, 0.1988, 0.6592, 0.6569, 0.2328, 0.4251, 0.2071, 0.6297, 0.3653,\n",
        "        0.8513]) torch.Size([10])\n",
        "```"
      ],
      "metadata": {
        "id": "hmeybz4uixy7"
      }
    },
    {
      "cell_type": "code",
      "source": [
        "# Set seed\n",
        "torch.manual_seed(7)\n",
        "# Create random tensor\n",
        "tensor=torch.rand(1,1,1,10)\n",
        "# Remove single dimensions\n",
        "tensor_squeezed=tensor.squeeze()\n",
        "# Print out tensors and their shapes\n",
        "print(tensor,tensor.shape)\n",
        "print(tensor_squeezed,tensor_squeezed.shape)"
      ],
      "metadata": {
        "id": "TQ9zbRzVl1jV",
        "outputId": "3882d1d1-58eb-48f8-b27a-88032c0c6f8d",
        "colab": {
          "base_uri": "https://localhost:8080/"
        }
      },
      "execution_count": 29,
      "outputs": [
        {
          "output_type": "stream",
          "name": "stdout",
          "text": [
            "tensor([[[[0.5349, 0.1988, 0.6592, 0.6569, 0.2328, 0.4251, 0.2071, 0.6297,\n",
            "           0.3653, 0.8513]]]]) torch.Size([1, 1, 1, 10])\n",
            "tensor([0.5349, 0.1988, 0.6592, 0.6569, 0.2328, 0.4251, 0.2071, 0.6297, 0.3653,\n",
            "        0.8513]) torch.Size([10])\n"
          ]
        }
      ]
    },
    {
      "cell_type": "code",
      "source": [],
      "metadata": {
        "id": "GKDbT1r2fVQS"
      },
      "execution_count": null,
      "outputs": []
    }
  ]
}